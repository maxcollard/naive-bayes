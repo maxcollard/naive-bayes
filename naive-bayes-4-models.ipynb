{
 "cells": [
  {
   "cell_type": "markdown",
   "metadata": {},
   "source": [
    "# The naïve Bayes classifier\n",
    "\n",
    "Max Collard, May 2021"
   ]
  },
  {
   "cell_type": "markdown",
   "metadata": {},
   "source": [
    "## 4. All models are wrong; some are useful"
   ]
  },
  {
   "cell_type": "markdown",
   "metadata": {},
   "source": [
    "### Modeling the data\n",
    "\n",
    "The problem with the \"perfect\" Bayes classifier is that in most cases, especially in biology, there is **no way to know the truth about how the data are generated**; that is, we can never *truly know* the probabilities\n",
    "\n",
    "$$\n",
    "\\begin{eqnarray*}\n",
    "&& \\mathrm{Pr}(\\mathcal{D} \\mid \\textrm{direction} = \\textrm{Left}) \\\\\n",
    "&& \\mathrm{Pr}(\\mathcal{D} \\mid \\textrm{direction} = \\textrm{Right})\n",
    "\\end{eqnarray*}\n",
    "$$\n",
    "\n",
    "This knowledge was **explicitly necessary** to make the \"optimal\" Bayes classifier; so, in general, the Bayes classifier is **impossible to obtain**.\n",
    "\n",
    "Instead, we will have to satisfy ourselves with coming up with some kind of **imperfect model** for how *we think* the data were generated; let's call the probabilities in this model\n",
    "\n",
    "$$\n",
    "\\begin{eqnarray*}\n",
    "&& \\mathcal{M}(\\mathcal{D} \\mid \\textrm{direction} = \\textrm{Left}) \\\\\n",
    "&& \\mathcal{M}(\\mathcal{D} \\mid \\textrm{direction} = \\textrm{Right})\n",
    "\\end{eqnarray*}\n",
    "$$\n",
    "\n",
    "Thinking of $\\mathrm{Pr}$ as a \"perfect ruler\" that measures the \"size\" of the part of the multiverse we observed that we live in, we can think of $\\mathcal{M}$ as being a **really badly manufactured ruler**: it won't get us the exact right answer, but as long as it isn't *too bad*, we can still draw some conclusions from the measurements we get from it."
   ]
  },
  {
   "cell_type": "markdown",
   "metadata": {},
   "source": [
    "A perfect ruler (the standard meter [from NIST](https://www.nist.gov/si-redefinition/meter#:~:text=Building%20upon%20these%20and%20other,per%20second%20in%20a%20vacuum.)):\n",
    "\n",
    "<img src=\"images/4/nist-library-us-prototype-meter-bar-color_hr_1.jpg\" />\n",
    "\n",
    "What we use in science:\n",
    "\n",
    "<img src=\"images/4/vintage+wooden+school+rulers+1.jpg\" />"
   ]
  },
  {
   "cell_type": "markdown",
   "metadata": {},
   "source": [
    "### The Poisson process: The default model for neuronal firing\n",
    "\n",
    "It's 8:05am. You've got class at 9. The last shuttle that will get you there on time leaves at 8:20. You do your best to get ready, get out the door, and bolt to the bus stop, but you live in the part of the multiverse where you arrived at 8:24, so you're out of luck. But the bus comes on a schedule that you know runs every 15 minutes; since it's 8:24, four minutes late, you *know* that another bus will be there in 11 minutes, at 8:35. Put in Bayesian terms, *given the knowledge* that you are 4 minutes late, you *believe* that the bus will arrive in 11 minutes. Not great, but you will probably be forgiven.\n",
    "\n",
    "There is, however, another world—a dark and scary world—called **Poisson** land. In Poisson land, everything is *reliable on average*, but nothing is *predictable*. What do I mean by this? Well, let's say you got to the bus stop at 8:24, and the last bus left at 8:20, just like in the first scenario. In Poisson land, you know that *on average*, in all possible worlds, the bus will get there 15 minutes after 8:20. But this is where the similarities end. In Poisson land, **knowing that the bus left 4 minutes ago tells you nothing about when the next bus will be there**; that is, the bus' arrival time is **independent of when the last bus arrived**. The next bus might be there in five seconds; it might be there in five years. But here's the weird part about Poisson land: now that it's 8:24, *on average*, the next bus will still come *in 15 minutes*, at 8:39. Even if you knew you had been waiting at the stop for 20 years without a bus coming, your *belief* about when the next bus would come would still be the same—*15 more minutes*.\n",
    "\n",
    "This is the primary property of the **Poisson process** as a model of when \"events\" (like bus arrivals, or neuronal action potentials) occur: event occurrences are **independent of the history of previous events**. In fact, the only thing that the events *actually do* depend on is the **average rate of events happening**—in the above example, one bus per 15 minutes.\n",
    "\n",
    "This model is completely absurd—we don't live in a world that behaves anything like Poisson land. However, it is an extremely **useful** model because it is *so unrestrictive* about the way in which events happen. In the context of spiking neurons, the model *only* makes the assumption that the neuron fires at a particular rate, say 15 times per second. In a certain sense, the events are placed \"*as randomly as possible*\" under the assumption that the neuron has to fire 15 times per second.\n",
    "\n",
    "---\n",
    "\n",
    "Let's think back to our T maze example: again, the mouse goes left or right, and we record the number of spikes that happen in five hippocampal neurons before the mouse makes that choice. Let's say that this mouse is *extremely* well-trained, and every single trial, it takes *exactly the same amount of time* to make its choice, say, 10 seconds. Let's think about what would happen if neuron 1 lived in \"Poisson land\", with spikes happening \"totally randomly\" at a rate of 10 spikes per second. In this case, because of the math of Poisson land, over many trials, the number of spikes produced by neuron 1 inside of that 10 second window would follow a **Poisson distribution** (hence the name \"Poisson process\"). In this case, the *average number of spikes* we would expect from neuron 1 would be its spike rate, 10 spikes per second, *times* the amount of time we observed the neuron for, 10 seconds: this is\n",
    "\n",
    "$$ 10 \\frac{\\textrm{spikes}}{\\textrm{second}} \\times 10 \\textrm{ seconds} = 100 \\textrm{ spikes} $$\n",
    "\n",
    "There is, though, some variability: in some trials, the neuron might fire 80 spikes; in others, it might fire 120. We can use `scipy` to show us what this distribution looks like:"
   ]
  },
  {
   "cell_type": "code",
   "execution_count": 3,
   "metadata": {},
   "outputs": [
    {
     "data": {
      "image/png": "[encoded data removed]",
      "text/plain": [
       "<Figure size 864x288 with 1 Axes>"
      ]
     },
     "metadata": {
      "needs_background": "light"
     },
     "output_type": "display_data"
    }
   ],
   "source": [
    "import numpy as np\n",
    "import scipy.stats as stats\n",
    "import matplotlib.pyplot as plt\n",
    "\n",
    "spikes_per_sec = 10\n",
    "trial_length = 10\n",
    "average_spikes = spikes_per_sec * trial_length\n",
    "\n",
    "n_spikes_test = np.arange( 0, 200 )\n",
    "# pmf means \"probability mass function\"\n",
    "p_test = stats.poisson.pmf( n_spikes_test, average_spikes )\n",
    "\n",
    "plt.figure( figsize = (12, 4) )\n",
    "\n",
    "plt.plot( n_spikes_test, p_test, 'k.', markersize = 3 )\n",
    "\n",
    "plt.ylabel( 'Probability of this many spikes' )\n",
    "plt.xlabel( 'Number of spikes' )\n",
    "\n",
    "plt.show()"
   ]
  },
  {
   "cell_type": "markdown",
   "metadata": {},
   "source": [
    "So, this neuron will *almost always* fire between 75 and 125 action potentials over the course of the trial.\n",
    "\n",
    "I guess that's kind of interesting. But we're interested in figuring out *which direction the mouse goes*; and as we saw, for us to be able to solve this problem, we need the neuron to **fire differently between the two directions**. So, a much more interesting model would be if the neuron \"prefers\" going to the left over going to the right. As an example, let's see what happens if the neuron fires *12 spikes per second* going to the left, but *8 spikes per second* going to the right."
   ]
  },
  {
   "cell_type": "code",
   "execution_count": 14,
   "metadata": {},
   "outputs": [
    {
     "data": {
      "image/png": "[encoded data removed]",
      "text/plain": [
       "<Figure size 864x288 with 1 Axes>"
      ]
     },
     "metadata": {
      "needs_background": "light"
     },
     "output_type": "display_data"
    }
   ],
   "source": [
    "spikes_per_sec_left = 12\n",
    "spikes_per_sec_right = 8\n",
    "\n",
    "trial_length = 10\n",
    "average_spikes_left = spikes_per_sec_left * trial_length\n",
    "average_spikes_right = spikes_per_sec_right * trial_length\n",
    "\n",
    "n_spikes_test = np.arange( 0, 200 )\n",
    "p_test_left = stats.poisson.pmf( n_spikes_test,\n",
    "                                 average_spikes_left )\n",
    "p_test_right = stats.poisson.pmf( n_spikes_test,\n",
    "                                  average_spikes_right )\n",
    "\n",
    "plt.figure( figsize = (12, 4) )\n",
    "\n",
    "plt.plot( n_spikes_test,\n",
    "          p_test_left,\n",
    "          'g.',\n",
    "          markersize = 3,\n",
    "          label = 'Left' )\n",
    "plt.plot( n_spikes_test,\n",
    "          p_test_right,\n",
    "          'r.',\n",
    "          markersize = 3,\n",
    "          label = 'Right' )\n",
    "\n",
    "plt.ylabel( 'Probability of this many spikes' )\n",
    "plt.xlabel( 'Number of spikes' )\n",
    "\n",
    "plt.legend( fontsize = 16 )\n",
    "\n",
    "plt.show()"
   ]
  },
  {
   "cell_type": "markdown",
   "metadata": {},
   "source": [
    "There's still a lot of variability here; *but*, we can start to see how this neuron might be able to give us knowledge about which direction the mouse decided to go. As an example, let's say that we actually recorded 125 spikes from this neuron. The probability of this neuron firing 125 times on a $\\textrm{Right}$ trial is **almost zero**; but, there's a pretty decent chance of this neuron firing 125 times on a $\\textrm{Left}$ trial. Intuitively, seeing this many spikes from this neuron *tells us* that this was probably a left trial.\n",
    "\n",
    "This model allows us to **assign \"estimated\" probabilities** to the data (spike counts in each neuron) that we observe in each direction:\n",
    "\n",
    "$$\n",
    "\\begin{eqnarray*}\n",
    "&& \\mathcal{M}(\\mathcal{D} \\mid \\textrm{direction} = \\textrm{Left}) \\\\\n",
    "&& \\mathcal{M}(\\mathcal{D} \\mid \\textrm{direction} = \\textrm{Right})\n",
    "\\end{eqnarray*}\n",
    "$$\n",
    "\n",
    "> Notice, though, that this model **does not care at all about spike timing**: all it cares about is the *number of spikes* that happened in a given period of time. Spike timing probably matters *in reality* (for the \"*true*\" *ruler*, $\\mathrm{Pr}$); but it is completely ignored *by the model* we are choosing to use to make our predictions (for the \"*bad*\" *ruler*, $\\mathcal{M}$).\n",
    "\n",
    "With this in hand, we can now plug these \"bad rulers\" into the formula for our Bayes classifier to come up with an \"estimate\" for how likely each direction is based on our data:\n",
    "\n",
    "$$\n",
    "\\begin{eqnarray*}\n",
    "\\mathrm{Pr}(\\textrm{direction} = \\textrm{Left} \\mid \\mathcal{D}) & = & \\mathrm{Pr}(\\textrm{direction} = \\textrm{Left})\\,\\frac{\\mathcal{M}(\\mathcal{D} \\mid \\textrm{direction} = \\textrm{Left})}{\\mathrm{Pr}(\\mathcal{D})} \\\\\n",
    "\\mathrm{Pr}(\\textrm{direction} = \\textrm{Right} \\mid \\mathcal{D}) & = & \\mathrm{Pr}(\\textrm{direction} = \\textrm{Right})\\,\\frac{\\mathcal{M}(\\mathcal{D} \\mid \\textrm{direction} = \\textrm{Right})}{\\mathrm{Pr}(\\mathcal{D})} \\\\\n",
    "\\end{eqnarray*}\n",
    "$$\n",
    "\n",
    "Let's see how we can do with this \"estimated\" Bayes classifier from the setup above: a single neuron that fires at a higher rate going to the left, and a lower rate going to the right. We'll try varying the difference between these two rates, to see how it impacts our decoding performance"
   ]
  },
  {
   "cell_type": "code",
   "execution_count": 15,
   "metadata": {},
   "outputs": [],
   "source": [
    "spikes_per_sec_center = 10\n",
    "\n",
    "# How many simulations we will run for each difference\n",
    "n_sims = 2000\n",
    "\n",
    "# Our prior expectation - it looks like the mouse tends to go\n",
    "# to the left a little more. We'll assume that this expectation\n",
    "# is *accurate*\n",
    "prior_left = 0.6\n",
    "prior_right = 1. - prior_left # \"The rest of the time\"\n",
    "\n",
    "# The difference between the left and right spike rate we want to test\n",
    "spikes_per_sec_diff_test = np.arange( 0, 9.1, 0.5 )\n",
    "\n",
    "n_correct_test = np.zeros( spikes_per_sec_diff_test.shape )\n",
    "\n",
    "for i_diff in range( spikes_per_sec_diff_test.shape[0] ):\n",
    "    \n",
    "    cur_diff = spikes_per_sec_diff_test[i_diff]\n",
    "    \n",
    "    spikes_per_sec_left = spikes_per_sec_center + (cur_diff / 2.)\n",
    "    spikes_per_sec_right = spikes_per_sec_center - (cur_diff / 2.)\n",
    "    \n",
    "    for i_sim in range( n_sims ):\n",
    "        ## First let's pick which direction the mouse went\n",
    "\n",
    "        # Pick a random number between 0 and 1\n",
    "        r = np.random.uniform( low = 0., high = 1. )\n",
    "        if r < prior_left:\n",
    "            # For example, if prior_left = 0.6, this happens 60% of the time\n",
    "            cur_dir = 'left'\n",
    "        else:\n",
    "            # This happens \"the rest of the time\"\n",
    "            cur_dir = 'right'\n",
    "\n",
    "        ## Next, let's simulate how many spikes happened\n",
    "        if cur_dir == 'left':\n",
    "            n_spikes = stats.poisson.rvs( spikes_per_sec_left )\n",
    "        if cur_dir == 'right':\n",
    "            n_spikes = stats.poisson.rvs( spikes_per_sec_right )\n",
    "\n",
    "        ## Finally, let's use Bayes' rule based on this data to pick\n",
    "        # the \"best\" choice\n",
    "        updated_left = prior_left * stats.poisson.pmf( n_spikes, spikes_per_sec_left )\n",
    "        updated_right = prior_right * stats.poisson.pmf( n_spikes, spikes_per_sec_right )\n",
    "\n",
    "        if updated_left > updated_right:\n",
    "            cur_choice = 'left'\n",
    "        if updated_right > updated_left:\n",
    "            cur_choice = 'right'\n",
    "        else:\n",
    "            # Technically, we have to break ties;\n",
    "            # I'm going to do it by just choosing left\n",
    "            # This is *very unlikely* to happen, and so won't really\n",
    "            # affect anything\n",
    "            cur_choice = 'left'\n",
    "\n",
    "        ## Let's see how we did!\n",
    "        if cur_choice == cur_dir:\n",
    "            # We got it right!\n",
    "            n_correct_test[i_diff] += 1\n",
    "\n",
    "# Turn the number correct into a *fraction* correct\n",
    "frac_correct_test = n_correct_test / n_sims"
   ]
  },
  {
   "cell_type": "code",
   "execution_count": 19,
   "metadata": {},
   "outputs": [
    {
     "data": {
      "image/png": "[encoded data removed]",
      "text/plain": [
       "<Figure size 864x288 with 1 Axes>"
      ]
     },
     "metadata": {
      "needs_background": "light"
     },
     "output_type": "display_data"
    }
   ],
   "source": [
    "## Plot the results\n",
    "\n",
    "plt.figure( figsize = (12, 4) )\n",
    "\n",
    "plt.plot( spikes_per_sec_diff_test,\n",
    "          frac_correct_test,\n",
    "          'k-',\n",
    "          linewidth = 2)\n",
    "\n",
    "# Show the chance level, which is the larger of the two priors\n",
    "frac_correct_chance = np.maximum( prior_left, prior_right )\n",
    "xl = plt.xlim()\n",
    "plt.plot( xl,\n",
    "          [frac_correct_chance, frac_correct_chance],\n",
    "          'k--',\n",
    "          linewidth = 1,\n",
    "          label = 'Chance decoding' )\n",
    "plt.xlim( xl )\n",
    "\n",
    "# Show the difference we used for the example\n",
    "yl = plt.ylim()\n",
    "plt.plot( [4., 4.],\n",
    "          yl,\n",
    "          'r--',\n",
    "          linewidth = 1,\n",
    "          label = '4 spikes/sec difference (example above)' )\n",
    "plt.ylim( yl )\n",
    "\n",
    "plt.xlabel( 'Difference in spike rate, Left - Right (spikes / second)' )\n",
    "plt.ylabel( 'Decoding accuracy' )\n",
    "\n",
    "plt.legend( fontsize = 16 )\n",
    "\n",
    "plt.show()"
   ]
  },
  {
   "cell_type": "markdown",
   "metadata": {},
   "source": [
    "So even recording from just a **single neuron**, with a difference as small as 12 spikes/second to the left versus 8 spikes/second to the right, we can decode substantially above chance ($\\sim$ 72% in this case). Neat!"
   ]
  },
  {
   "cell_type": "markdown",
   "metadata": {},
   "source": [
    "### Dependence and the curse of dimensionality\n",
    "\n",
    "This is a perfectly usable classifier for a single neuron! But if we want to think about *multiple neurons* —which, yeah, of course we do—we run into one more problem. Neurons are **interconnected**: the firing of a single neuron is **dependent** on the firing of many, many other neurons (maybe even *all of them*; 〜ｓｐｏｏｋｙ〜). To intuitively understand the big issue with this, we need to build one more tool.\n",
    "\n",
    "A mathematical **graph** is a set of points called **vertices** with a bunch of lines connecting them, called **edges**. Here's a graph:"
   ]
  },
  {
   "cell_type": "markdown",
   "metadata": {},
   "source": [
    "<img src=\"images/4/IMG_0138.PNG\" />"
   ]
  },
  {
   "cell_type": "markdown",
   "metadata": {},
   "source": [
    "Random variables can either be **independent** or **dependent** (that is, *not independent*). If we have a bunch of random variables, we can make a graph out of them, by making each *random variable* into a *vertex*, and placing an edge between two random variables if they are *dependent*. So, for example, for the classification problem above, we have two random variables $\\textrm{direction}$, the thing we're trying to decide, and $N$, the number of spikes in the neuron we recorded. These two are connected, because they are dependent (if they weren't, then there would be \"two identical pictures\", and so classification would be impossible)."
   ]
  },
  {
   "cell_type": "markdown",
   "metadata": {},
   "source": [
    "<img src=\"images/4/IMG_0139.PNG\" />"
   ]
  },
  {
   "cell_type": "markdown",
   "metadata": {},
   "source": [
    "Dependencies are important because **each one needs to be modeled**. For example, in the problem above, because $N$ and $\\textrm{direction}$ are dependent, we had to come up with a model that describes how they are related.\n",
    "\n",
    "This begins to get complicated as we start adding more neurons. Because neurons are interconnected, and so *dependent*, as we add more neurons into the model we're building, we have to add **more edges** (*dependencies*) between them. For example, with three neurons, $N_1, N_2, N_3$, we would have:"
   ]
  },
  {
   "cell_type": "markdown",
   "metadata": {},
   "source": [
    "<img src=\"images/4/IMG_0143.PNG\" />"
   ]
  },
  {
   "cell_type": "markdown",
   "metadata": {},
   "source": [
    "That's definitely more complicated. The situation **gets worse very quickly** as we add more neurons:"
   ]
  },
  {
   "cell_type": "markdown",
   "metadata": {},
   "source": [
    "<img src=\"images/4/IMG_0144.PNG\" />"
   ]
  },
  {
   "cell_type": "markdown",
   "metadata": {},
   "source": [
    "Even with only 5 neurons, we already have **15 conditional dependencies** we have to model!\n",
    "\n",
    "**The curse of dimensionality** is used with a lot of different meanings, but this is one of them: if you're building a model involving a large number of random variables, *the number of conditional dependencies explodes*. In order to build a model that is actually tractable, we need to find a way to simplify the network structure."
   ]
  }
 ],
 "metadata": {
  "kernelspec": {
   "display_name": "Python 3",
   "language": "python",
   "name": "python3"
  },
  "language_info": {
   "codemirror_mode": {
    "name": "ipython",
    "version": 3
   },
   "file_extension": ".py",
   "mimetype": "text/x-python",
   "name": "python",
   "nbconvert_exporter": "python",
   "pygments_lexer": "ipython3",
   "version": "3.8.5"
  }
 },
 "nbformat": 4,
 "nbformat_minor": 4
}
